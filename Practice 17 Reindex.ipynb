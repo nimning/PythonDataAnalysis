{
 "cells": [
  {
   "cell_type": "code",
   "execution_count": 2,
   "metadata": {
    "collapsed": true
   },
   "outputs": [],
   "source": [
    "import numpy as np\n",
    "import pandas as pd\n",
    "from pandas import Series, DataFrame\n",
    "from numpy.random import randn"
   ]
  },
  {
   "cell_type": "code",
   "execution_count": 4,
   "metadata": {
    "collapsed": false
   },
   "outputs": [
    {
     "data": {
      "text/plain": [
       "A    1\n",
       "B    2\n",
       "C    3\n",
       "D    4\n",
       "dtype: int64"
      ]
     },
     "execution_count": 4,
     "metadata": {},
     "output_type": "execute_result"
    }
   ],
   "source": [
    "ser1 = Series([1,2,3,4], index = ['A','B','C','D'])\n",
    "ser1"
   ]
  },
  {
   "cell_type": "code",
   "execution_count": 5,
   "metadata": {
    "collapsed": true
   },
   "outputs": [],
   "source": [
    "ser2 = ser1.reindex(['A','B','C','D','E','F'])"
   ]
  },
  {
   "cell_type": "code",
   "execution_count": 6,
   "metadata": {
    "collapsed": false
   },
   "outputs": [
    {
     "data": {
      "text/plain": [
       "A     1\n",
       "B     2\n",
       "C     3\n",
       "D     4\n",
       "E   NaN\n",
       "F   NaN\n",
       "dtype: float64"
      ]
     },
     "execution_count": 6,
     "metadata": {},
     "output_type": "execute_result"
    }
   ],
   "source": [
    "ser2"
   ]
  },
  {
   "cell_type": "code",
   "execution_count": 8,
   "metadata": {
    "collapsed": false
   },
   "outputs": [
    {
     "data": {
      "text/plain": [
       "A     1\n",
       "B     2\n",
       "C     3\n",
       "D     4\n",
       "E   NaN\n",
       "F   NaN\n",
       "G     0\n",
       "dtype: float64"
      ]
     },
     "execution_count": 8,
     "metadata": {},
     "output_type": "execute_result"
    }
   ],
   "source": [
    "ser2.reindex(['A','B','C','D','E','F','G'],fill_value = 0)"
   ]
  },
  {
   "cell_type": "code",
   "execution_count": 10,
   "metadata": {
    "collapsed": false
   },
   "outputs": [
    {
     "data": {
      "text/plain": [
       "0        USA\n",
       "5     Mexico\n",
       "10    Canada\n",
       "dtype: object"
      ]
     },
     "execution_count": 10,
     "metadata": {},
     "output_type": "execute_result"
    }
   ],
   "source": [
    "ser3 = Series(['USA','Mexico','Canada'], index = [0,5,10])\n",
    "ser3"
   ]
  },
  {
   "cell_type": "code",
   "execution_count": 13,
   "metadata": {
    "collapsed": false
   },
   "outputs": [
    {
     "data": {
      "text/plain": [
       "0        USA\n",
       "1        NaN\n",
       "2        NaN\n",
       "3        NaN\n",
       "4        NaN\n",
       "5     Mexico\n",
       "6        NaN\n",
       "7        NaN\n",
       "8        NaN\n",
       "9        NaN\n",
       "10    Canada\n",
       "11       NaN\n",
       "12       NaN\n",
       "13       NaN\n",
       "14       NaN\n",
       "dtype: object"
      ]
     },
     "execution_count": 13,
     "metadata": {},
     "output_type": "execute_result"
    }
   ],
   "source": [
    "ranger = range(15)\n",
    "ser3.reindex(ranger)"
   ]
  },
  {
   "cell_type": "code",
   "execution_count": 12,
   "metadata": {
    "collapsed": false
   },
   "outputs": [
    {
     "data": {
      "text/plain": [
       "0        USA\n",
       "1        USA\n",
       "2        USA\n",
       "3        USA\n",
       "4        USA\n",
       "5     Mexico\n",
       "6     Mexico\n",
       "7     Mexico\n",
       "8     Mexico\n",
       "9     Mexico\n",
       "10    Canada\n",
       "11    Canada\n",
       "12    Canada\n",
       "13    Canada\n",
       "14    Canada\n",
       "dtype: object"
      ]
     },
     "execution_count": 12,
     "metadata": {},
     "output_type": "execute_result"
    }
   ],
   "source": [
    "ser3.reindex(ranger, method=\"ffill\")"
   ]
  },
  {
   "cell_type": "code",
   "execution_count": 14,
   "metadata": {
    "collapsed": true
   },
   "outputs": [],
   "source": [
    "dframe = DataFrame(randn(25).reshape((5,5)),index = ['A','B','D','E','F'],columns = \n",
    "                  ['col1','col2','col3','col4','col5'])"
   ]
  },
  {
   "cell_type": "code",
   "execution_count": 15,
   "metadata": {
    "collapsed": false
   },
   "outputs": [
    {
     "data": {
      "text/html": [
       "<div>\n",
       "<table border=\"1\" class=\"dataframe\">\n",
       "  <thead>\n",
       "    <tr style=\"text-align: right;\">\n",
       "      <th></th>\n",
       "      <th>col1</th>\n",
       "      <th>col2</th>\n",
       "      <th>col3</th>\n",
       "      <th>col4</th>\n",
       "      <th>col5</th>\n",
       "    </tr>\n",
       "  </thead>\n",
       "  <tbody>\n",
       "    <tr>\n",
       "      <th>A</th>\n",
       "      <td>-1.381593</td>\n",
       "      <td>-1.022455</td>\n",
       "      <td>1.248306</td>\n",
       "      <td>-0.721210</td>\n",
       "      <td>-0.046519</td>\n",
       "    </tr>\n",
       "    <tr>\n",
       "      <th>B</th>\n",
       "      <td>0.372192</td>\n",
       "      <td>1.041463</td>\n",
       "      <td>0.227352</td>\n",
       "      <td>0.602078</td>\n",
       "      <td>0.050704</td>\n",
       "    </tr>\n",
       "    <tr>\n",
       "      <th>D</th>\n",
       "      <td>0.926781</td>\n",
       "      <td>-0.263964</td>\n",
       "      <td>-0.296875</td>\n",
       "      <td>-0.034170</td>\n",
       "      <td>0.885094</td>\n",
       "    </tr>\n",
       "    <tr>\n",
       "      <th>E</th>\n",
       "      <td>1.093343</td>\n",
       "      <td>0.669463</td>\n",
       "      <td>-0.686779</td>\n",
       "      <td>-1.690898</td>\n",
       "      <td>-0.720910</td>\n",
       "    </tr>\n",
       "    <tr>\n",
       "      <th>F</th>\n",
       "      <td>-1.614497</td>\n",
       "      <td>1.185418</td>\n",
       "      <td>0.223180</td>\n",
       "      <td>1.035620</td>\n",
       "      <td>0.238194</td>\n",
       "    </tr>\n",
       "  </tbody>\n",
       "</table>\n",
       "</div>"
      ],
      "text/plain": [
       "       col1      col2      col3      col4      col5\n",
       "A -1.381593 -1.022455  1.248306 -0.721210 -0.046519\n",
       "B  0.372192  1.041463  0.227352  0.602078  0.050704\n",
       "D  0.926781 -0.263964 -0.296875 -0.034170  0.885094\n",
       "E  1.093343  0.669463 -0.686779 -1.690898 -0.720910\n",
       "F -1.614497  1.185418  0.223180  1.035620  0.238194"
      ]
     },
     "execution_count": 15,
     "metadata": {},
     "output_type": "execute_result"
    }
   ],
   "source": [
    "dframe"
   ]
  },
  {
   "cell_type": "code",
   "execution_count": 21,
   "metadata": {
    "collapsed": true
   },
   "outputs": [],
   "source": [
    "dframe2 = dframe.reindex(['A','B','C','D','E'])"
   ]
  },
  {
   "cell_type": "code",
   "execution_count": 22,
   "metadata": {
    "collapsed": false
   },
   "outputs": [
    {
     "data": {
      "text/html": [
       "<div>\n",
       "<table border=\"1\" class=\"dataframe\">\n",
       "  <thead>\n",
       "    <tr style=\"text-align: right;\">\n",
       "      <th></th>\n",
       "      <th>col1</th>\n",
       "      <th>col2</th>\n",
       "      <th>col3</th>\n",
       "      <th>col4</th>\n",
       "      <th>col5</th>\n",
       "    </tr>\n",
       "  </thead>\n",
       "  <tbody>\n",
       "    <tr>\n",
       "      <th>A</th>\n",
       "      <td>-1.381593</td>\n",
       "      <td>-1.022455</td>\n",
       "      <td>1.248306</td>\n",
       "      <td>-0.721210</td>\n",
       "      <td>-0.046519</td>\n",
       "    </tr>\n",
       "    <tr>\n",
       "      <th>B</th>\n",
       "      <td>0.372192</td>\n",
       "      <td>1.041463</td>\n",
       "      <td>0.227352</td>\n",
       "      <td>0.602078</td>\n",
       "      <td>0.050704</td>\n",
       "    </tr>\n",
       "    <tr>\n",
       "      <th>C</th>\n",
       "      <td>NaN</td>\n",
       "      <td>NaN</td>\n",
       "      <td>NaN</td>\n",
       "      <td>NaN</td>\n",
       "      <td>NaN</td>\n",
       "    </tr>\n",
       "    <tr>\n",
       "      <th>D</th>\n",
       "      <td>0.926781</td>\n",
       "      <td>-0.263964</td>\n",
       "      <td>-0.296875</td>\n",
       "      <td>-0.034170</td>\n",
       "      <td>0.885094</td>\n",
       "    </tr>\n",
       "    <tr>\n",
       "      <th>E</th>\n",
       "      <td>1.093343</td>\n",
       "      <td>0.669463</td>\n",
       "      <td>-0.686779</td>\n",
       "      <td>-1.690898</td>\n",
       "      <td>-0.720910</td>\n",
       "    </tr>\n",
       "  </tbody>\n",
       "</table>\n",
       "</div>"
      ],
      "text/plain": [
       "       col1      col2      col3      col4      col5\n",
       "A -1.381593 -1.022455  1.248306 -0.721210 -0.046519\n",
       "B  0.372192  1.041463  0.227352  0.602078  0.050704\n",
       "C       NaN       NaN       NaN       NaN       NaN\n",
       "D  0.926781 -0.263964 -0.296875 -0.034170  0.885094\n",
       "E  1.093343  0.669463 -0.686779 -1.690898 -0.720910"
      ]
     },
     "execution_count": 22,
     "metadata": {},
     "output_type": "execute_result"
    }
   ],
   "source": [
    "dframe2"
   ]
  },
  {
   "cell_type": "code",
   "execution_count": 26,
   "metadata": {
    "collapsed": false
   },
   "outputs": [],
   "source": [
    "new_columns = ['col1','col2','col3','col4','col5','col5','col6']"
   ]
  },
  {
   "cell_type": "code",
   "execution_count": 27,
   "metadata": {
    "collapsed": false
   },
   "outputs": [
    {
     "data": {
      "text/html": [
       "<div>\n",
       "<table border=\"1\" class=\"dataframe\">\n",
       "  <thead>\n",
       "    <tr style=\"text-align: right;\">\n",
       "      <th></th>\n",
       "      <th>col1</th>\n",
       "      <th>col2</th>\n",
       "      <th>col3</th>\n",
       "      <th>col4</th>\n",
       "      <th>col5</th>\n",
       "      <th>col5</th>\n",
       "      <th>col6</th>\n",
       "    </tr>\n",
       "  </thead>\n",
       "  <tbody>\n",
       "    <tr>\n",
       "      <th>A</th>\n",
       "      <td>-1.381593</td>\n",
       "      <td>-1.022455</td>\n",
       "      <td>1.248306</td>\n",
       "      <td>-0.721210</td>\n",
       "      <td>-0.046519</td>\n",
       "      <td>-0.046519</td>\n",
       "      <td>NaN</td>\n",
       "    </tr>\n",
       "    <tr>\n",
       "      <th>B</th>\n",
       "      <td>0.372192</td>\n",
       "      <td>1.041463</td>\n",
       "      <td>0.227352</td>\n",
       "      <td>0.602078</td>\n",
       "      <td>0.050704</td>\n",
       "      <td>0.050704</td>\n",
       "      <td>NaN</td>\n",
       "    </tr>\n",
       "    <tr>\n",
       "      <th>C</th>\n",
       "      <td>NaN</td>\n",
       "      <td>NaN</td>\n",
       "      <td>NaN</td>\n",
       "      <td>NaN</td>\n",
       "      <td>NaN</td>\n",
       "      <td>NaN</td>\n",
       "      <td>NaN</td>\n",
       "    </tr>\n",
       "    <tr>\n",
       "      <th>D</th>\n",
       "      <td>0.926781</td>\n",
       "      <td>-0.263964</td>\n",
       "      <td>-0.296875</td>\n",
       "      <td>-0.034170</td>\n",
       "      <td>0.885094</td>\n",
       "      <td>0.885094</td>\n",
       "      <td>NaN</td>\n",
       "    </tr>\n",
       "    <tr>\n",
       "      <th>E</th>\n",
       "      <td>1.093343</td>\n",
       "      <td>0.669463</td>\n",
       "      <td>-0.686779</td>\n",
       "      <td>-1.690898</td>\n",
       "      <td>-0.720910</td>\n",
       "      <td>-0.720910</td>\n",
       "      <td>NaN</td>\n",
       "    </tr>\n",
       "  </tbody>\n",
       "</table>\n",
       "</div>"
      ],
      "text/plain": [
       "       col1      col2      col3      col4      col5      col5  col6\n",
       "A -1.381593 -1.022455  1.248306 -0.721210 -0.046519 -0.046519   NaN\n",
       "B  0.372192  1.041463  0.227352  0.602078  0.050704  0.050704   NaN\n",
       "C       NaN       NaN       NaN       NaN       NaN       NaN   NaN\n",
       "D  0.926781 -0.263964 -0.296875 -0.034170  0.885094  0.885094   NaN\n",
       "E  1.093343  0.669463 -0.686779 -1.690898 -0.720910 -0.720910   NaN"
      ]
     },
     "execution_count": 27,
     "metadata": {},
     "output_type": "execute_result"
    }
   ],
   "source": [
    "dframe2.reindex(columns = new_columns)"
   ]
  },
  {
   "cell_type": "code",
   "execution_count": 28,
   "metadata": {
    "collapsed": false
   },
   "outputs": [
    {
     "data": {
      "text/html": [
       "<div>\n",
       "<table border=\"1\" class=\"dataframe\">\n",
       "  <thead>\n",
       "    <tr style=\"text-align: right;\">\n",
       "      <th></th>\n",
       "      <th>col1</th>\n",
       "      <th>col2</th>\n",
       "      <th>col3</th>\n",
       "      <th>col4</th>\n",
       "      <th>col5</th>\n",
       "    </tr>\n",
       "  </thead>\n",
       "  <tbody>\n",
       "    <tr>\n",
       "      <th>A</th>\n",
       "      <td>-1.381593</td>\n",
       "      <td>-1.022455</td>\n",
       "      <td>1.248306</td>\n",
       "      <td>-0.721210</td>\n",
       "      <td>-0.046519</td>\n",
       "    </tr>\n",
       "    <tr>\n",
       "      <th>B</th>\n",
       "      <td>0.372192</td>\n",
       "      <td>1.041463</td>\n",
       "      <td>0.227352</td>\n",
       "      <td>0.602078</td>\n",
       "      <td>0.050704</td>\n",
       "    </tr>\n",
       "    <tr>\n",
       "      <th>D</th>\n",
       "      <td>0.926781</td>\n",
       "      <td>-0.263964</td>\n",
       "      <td>-0.296875</td>\n",
       "      <td>-0.034170</td>\n",
       "      <td>0.885094</td>\n",
       "    </tr>\n",
       "    <tr>\n",
       "      <th>E</th>\n",
       "      <td>1.093343</td>\n",
       "      <td>0.669463</td>\n",
       "      <td>-0.686779</td>\n",
       "      <td>-1.690898</td>\n",
       "      <td>-0.720910</td>\n",
       "    </tr>\n",
       "    <tr>\n",
       "      <th>F</th>\n",
       "      <td>-1.614497</td>\n",
       "      <td>1.185418</td>\n",
       "      <td>0.223180</td>\n",
       "      <td>1.035620</td>\n",
       "      <td>0.238194</td>\n",
       "    </tr>\n",
       "  </tbody>\n",
       "</table>\n",
       "</div>"
      ],
      "text/plain": [
       "       col1      col2      col3      col4      col5\n",
       "A -1.381593 -1.022455  1.248306 -0.721210 -0.046519\n",
       "B  0.372192  1.041463  0.227352  0.602078  0.050704\n",
       "D  0.926781 -0.263964 -0.296875 -0.034170  0.885094\n",
       "E  1.093343  0.669463 -0.686779 -1.690898 -0.720910\n",
       "F -1.614497  1.185418  0.223180  1.035620  0.238194"
      ]
     },
     "execution_count": 28,
     "metadata": {},
     "output_type": "execute_result"
    }
   ],
   "source": [
    "dframe"
   ]
  },
  {
   "cell_type": "code",
   "execution_count": 29,
   "metadata": {
    "collapsed": false
   },
   "outputs": [
    {
     "data": {
      "text/html": [
       "<div>\n",
       "<table border=\"1\" class=\"dataframe\">\n",
       "  <thead>\n",
       "    <tr style=\"text-align: right;\">\n",
       "      <th></th>\n",
       "      <th>col1</th>\n",
       "      <th>col2</th>\n",
       "      <th>col3</th>\n",
       "      <th>col4</th>\n",
       "      <th>col5</th>\n",
       "      <th>col5</th>\n",
       "      <th>col6</th>\n",
       "    </tr>\n",
       "  </thead>\n",
       "  <tbody>\n",
       "    <tr>\n",
       "      <th>A</th>\n",
       "      <td>-1.381593</td>\n",
       "      <td>-1.022455</td>\n",
       "      <td>1.248306</td>\n",
       "      <td>-0.721210</td>\n",
       "      <td>-0.046519</td>\n",
       "      <td>-0.046519</td>\n",
       "      <td>NaN</td>\n",
       "    </tr>\n",
       "    <tr>\n",
       "      <th>B</th>\n",
       "      <td>0.372192</td>\n",
       "      <td>1.041463</td>\n",
       "      <td>0.227352</td>\n",
       "      <td>0.602078</td>\n",
       "      <td>0.050704</td>\n",
       "      <td>0.050704</td>\n",
       "      <td>NaN</td>\n",
       "    </tr>\n",
       "    <tr>\n",
       "      <th>C</th>\n",
       "      <td>NaN</td>\n",
       "      <td>NaN</td>\n",
       "      <td>NaN</td>\n",
       "      <td>NaN</td>\n",
       "      <td>NaN</td>\n",
       "      <td>NaN</td>\n",
       "      <td>NaN</td>\n",
       "    </tr>\n",
       "    <tr>\n",
       "      <th>D</th>\n",
       "      <td>0.926781</td>\n",
       "      <td>-0.263964</td>\n",
       "      <td>-0.296875</td>\n",
       "      <td>-0.034170</td>\n",
       "      <td>0.885094</td>\n",
       "      <td>0.885094</td>\n",
       "      <td>NaN</td>\n",
       "    </tr>\n",
       "    <tr>\n",
       "      <th>E</th>\n",
       "      <td>1.093343</td>\n",
       "      <td>0.669463</td>\n",
       "      <td>-0.686779</td>\n",
       "      <td>-1.690898</td>\n",
       "      <td>-0.720910</td>\n",
       "      <td>-0.720910</td>\n",
       "      <td>NaN</td>\n",
       "    </tr>\n",
       "    <tr>\n",
       "      <th>F</th>\n",
       "      <td>-1.614497</td>\n",
       "      <td>1.185418</td>\n",
       "      <td>0.223180</td>\n",
       "      <td>1.035620</td>\n",
       "      <td>0.238194</td>\n",
       "      <td>0.238194</td>\n",
       "      <td>NaN</td>\n",
       "    </tr>\n",
       "  </tbody>\n",
       "</table>\n",
       "</div>"
      ],
      "text/plain": [
       "       col1      col2      col3      col4      col5      col5  col6\n",
       "A -1.381593 -1.022455  1.248306 -0.721210 -0.046519 -0.046519   NaN\n",
       "B  0.372192  1.041463  0.227352  0.602078  0.050704  0.050704   NaN\n",
       "C       NaN       NaN       NaN       NaN       NaN       NaN   NaN\n",
       "D  0.926781 -0.263964 -0.296875 -0.034170  0.885094  0.885094   NaN\n",
       "E  1.093343  0.669463 -0.686779 -1.690898 -0.720910 -0.720910   NaN\n",
       "F -1.614497  1.185418  0.223180  1.035620  0.238194  0.238194   NaN"
      ]
     },
     "execution_count": 29,
     "metadata": {},
     "output_type": "execute_result"
    }
   ],
   "source": [
    "dframe.ix[['A','B','C','D','E','F'], new_columns]"
   ]
  },
  {
   "cell_type": "code",
   "execution_count": null,
   "metadata": {
    "collapsed": true
   },
   "outputs": [],
   "source": []
  }
 ],
 "metadata": {
  "kernelspec": {
   "display_name": "Python 2",
   "language": "python",
   "name": "python2"
  },
  "language_info": {
   "codemirror_mode": {
    "name": "ipython",
    "version": 2
   },
   "file_extension": ".py",
   "mimetype": "text/x-python",
   "name": "python",
   "nbconvert_exporter": "python",
   "pygments_lexer": "ipython2",
   "version": "2.7.11"
  }
 },
 "nbformat": 4,
 "nbformat_minor": 0
}
